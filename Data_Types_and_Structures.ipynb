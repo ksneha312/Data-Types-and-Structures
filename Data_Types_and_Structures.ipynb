{
  "nbformat": 4,
  "nbformat_minor": 0,
  "metadata": {
    "colab": {
      "provenance": []
    },
    "kernelspec": {
      "name": "python3",
      "display_name": "Python 3"
    },
    "language_info": {
      "name": "python"
    }
  },
  "cells": [
    {
      "cell_type": "markdown",
      "source": [
        "**Q1:-What are data structures, and why are they important?**\n",
        "\n",
        "**Ans:-**Data structures are ways of organizing, managing, and storing data so that it can be accessed and modified efficiently. In Python, data structures help you organize your data in a logical and usable way, which is crucial for writing clean, efficient, and scalable code.\n",
        "\n",
        "**Common Built-in Data Structures in Python**\n",
        "\n",
        "1. List\n",
        "\n",
        "Ordered, mutable (changeable), and allows duplicates.\n",
        "\n",
        "Example: my_list = [1, 2, 3, 4]\n",
        "\n",
        "2. Tuple\n",
        "\n",
        "Ordered, immutable (cannot be changed after creation), allows duplicates.\n",
        "\n",
        "Example: my_tuple = (1, 2, 3)\n",
        "\n",
        "3. Set\n",
        "\n",
        "Unordered, mutable, no duplicates allowed.\n",
        "\n",
        "Example: my_set = {1, 2, 3}\n",
        "\n",
        "4. Dictionary\n",
        "\n",
        "Unordered (as of Python < 3.7), mutable, key-value pairs.\n",
        "\n",
        "Example: my_dict = {\"name\": \"Alice\", \"age\": 25}\n",
        "\n",
        "**Why Are Data Structures Important**\n",
        "\n",
        "**Efficient Data Access**\n",
        "\n",
        "Choosing the right structure (like a dictionary for key-based lookups) speeds up your program.\n",
        "\n",
        "**Better Data Management**\n",
        "\n",
        "Structures like lists or sets help manage collections of items in a logical way.\n",
        "\n",
        "**Memory Efficiency**\n",
        "\n",
        "Some data structures consume less memory for large datasets (e.g., tuple vs. list).\n",
        "\n",
        "**Code Readability and Maintainability**\n",
        "\n",
        "Clear use of appropriate structures makes the code easier to understand and maintain.\n",
        "\n",
        "**Enabling Complex Operations**\n",
        "\n",
        "Structures like stacks, queues, trees, or graphs (using custom classes or collections module) allow complex data manipulations required in algorithms, games, simulations, etc.\n",
        "\n",
        "**Q2:-Explain the difference between mutable and immutable data types with examples?**\n",
        "\n",
        "**Ans:-**In Python, the difference between mutable and immutable data types is based on whether their content can be changed after they are created.\n",
        "\n",
        "**Mutable Data Types**\n",
        "\n",
        "Mutable types can be changed after creation. This means you can modify, add, or remove elements without creating a new object.\n",
        "\n",
        "**Immutable Data Types**\n",
        "\n",
        "Immutable types cannot be changed once created. If you try to modify them, Python creates a new object instead of changing the original.\n",
        "\n",
        "**Q3:-What are the main differences between lists and tuples in Python?**\n",
        "\n",
        "**Ans:-**In Python, lists and tuples are both used to store collections of items, but they have several important differences:\n",
        "\n",
        "1. Mutability\n",
        "List: Mutable — You can change, add, or remove items after the list is created.\n",
        "\n",
        "Tuple: Immutable — You cannot modify a tuple once it's created.\n",
        "\n",
        "2. Syntax\n",
        "List: Created using square brackets []\n",
        "\n",
        "Tuple: Created using parentheses ()\n",
        "\n",
        "3. Performance\n",
        "Tuples are generally faster than lists because they are immutable and have a smaller memory footprint.\n",
        "\n",
        "4. Use Cases\n",
        "List: Best when you need a collection that can change — for example, a shopping cart or task list.\n",
        "\n",
        "Tuple: Ideal for fixed collections of items — like coordinates (x, y), or days of the week.\n",
        "\n",
        "5. Methods\n",
        "Lists have more built-in methods like .append(), .remove(), .sort(), etc.\n",
        "\n",
        "Tuples have very few methods — mainly .count() and .index().\n",
        "\n",
        "6. Can Be Used as Dictionary Keys\n",
        "Tuples (if they contain only immutable elements) can be used as dictionary keys.\n",
        "\n",
        "Lists cannot, because they are mutable and not hashable.\n",
        "\n",
        "**Q4:-Describe how dictionaries store data?**\n",
        "\n",
        "**Ans:-**In Python, dictionaries store data as key-value pairs. Each key is unique, and it maps to a value. Dictionaries are also called hash maps or associative arrays in other languages.\n",
        "\n",
        "**Structure of a Dictionary**\n",
        "\n",
        "\"name\", \"age\", and \"city\" are keys.\n",
        "\n",
        "\"Alice\", 30, and \"New York\" are values.\n",
        "\n",
        "You access values using their keys: my_dict[\"name\"] returns \"Alice\".\n",
        "\n",
        "**How Python Stores Dictionary Data Internally**\n",
        "\n",
        "Hashing:\n",
        "When a key is added to the dictionary, Python computes its hash value using the built-in hash() function.\n",
        "\n",
        "Hash Table:\n",
        "The key-value pair is stored in an underlying data structure called a hash table, where the hash of the key determines its index.\n",
        "\n",
        "Fast Lookup:\n",
        "Because of hashing, Python can look up values by key very quickly, usually in constant time, O(1).\n",
        "\n",
        "Important Dictionary Properties\n",
        "Keys must be immutable types (like strings, numbers, or tuples with only immutable elements).\n",
        "\n",
        "Values can be any type, including other dictionaries or lists.\n",
        "\n",
        "**Q5:-Why might you use a set instead of a list in Python?**\n",
        "\n",
        "**Ans:-**You might use a set instead of a list in Python when you need to store unique items and perform fast membership tests. Here's why:\n",
        "\n",
        "1. No Duplicates Allowed\n",
        "A set automatically removes duplicates.\n",
        "\n",
        "A list allows duplicates and requires manual filtering to remove them.\n",
        "\n",
        "2. Faster Membership Testing\n",
        "Sets use hashing, so checking if an item exists is very fast — average time is O(1).\n",
        "\n",
        "Lists require scanning through each item — average time is O(n).\n",
        "\n",
        "3. Mathematical Set Operations\n",
        "Sets support operations like:\n",
        "\n",
        "Union (|)\n",
        "\n",
        "Intersection (&)\n",
        "\n",
        "Difference (-)\n",
        "\n",
        "Symmetric difference (^)\n",
        "\n",
        "4. Cleaner Code When Uniqueness Matters\n",
        "If you're managing a collection where duplicates make no sense (like user IDs, visited URLs, or tags), a set keeps your data clean automatically.\n",
        "\n",
        "**Q6:-What is a string in Python, and how is it different from a list?**\n",
        "\n",
        "**Ans:-**In Python, a string is a sequence of characters used to represent text. It is written inside single ('...') or double (\"...\") quotes.\n",
        "\n",
        "**What is a String?**\n",
        "\n",
        "It is a sequence: you can access individual characters using indexing.\n",
        "\n",
        "It is immutable: you cannot change a character after the string is created.\n",
        "\n",
        "How Is a String Different from a List?\n",
        "Although both strings and lists are sequences, they have key differences:\n",
        "\n",
        "**1. Data Type of Elements**\n",
        "\n",
        "A string holds only characters.\n",
        "\n",
        "A list can hold any data types — strings, numbers, other lists, etc.\n",
        "\n",
        "**2. Mutability**\n",
        "\n",
        "Strings are immutable: they cannot be changed after creation.\n",
        "\n",
        "Lists are mutable: they can be changed (add, remove, modify elements).\n",
        "\n",
        "**3. Methods**\n",
        "\n",
        "Strings have methods for text processing like .upper(), .lower(), .split().\n",
        "\n",
        "Lists have methods for modifying contents like .append(), .pop(), .remove().\n",
        "\n",
        "**Q7:-How do tuples ensure data integrity in Python?**\n",
        "\n",
        "**Ans:-**In Python, tuples ensure data integrity by being immutable—meaning once a tuple is created, its contents cannot be changed. This immutability provides protection against accidental modification, which is crucial when you want to ensure that data remains consistent and unchanged throughout a program.\n",
        "\n",
        "**\"Immutable\" Mean**\n",
        "\n",
        "Once a tuple is created:\n",
        "\n",
        "You cannot add, remove, or modify any of its elements.\n",
        "\n",
        "Any attempt to do so will raise an error.\n",
        "\n",
        "**How Tuples Help Ensure Data Integrity**\n",
        "\n",
        "1.Accidental Changes Are Prevented\n",
        "\n",
        "Tuples are read-only. This protects data from being unintentionally modified.\n",
        "\n",
        "2.Safe to Use as Dictionary Keys\n",
        "\n",
        "Since tuples are immutable, they are hashable (as long as all elements are also immutable). This makes them reliable for use as keys in dictionaries or elements in sets.\n",
        "\n",
        "3.Reliable for Fixed Data Structures\n",
        "\n",
        "Tuples are ideal for storing fixed sets of values like coordinates, RGB values, database rows, etc.\n",
        "\n",
        "4.Improves Code Safety and Predictability\n",
        "\n",
        "Since tuple data can’t change, you avoid bugs caused by unintended side effects.\n",
        "\n",
        "**Q8:-What is a hash table, and how does it relate to dictionaries in Python?**\n",
        "\n",
        "**Ans:-**In Python, a hash table is the underlying data structure used to implement dictionaries. It allows dictionaries to store and retrieve data efficiently using key-value pairs.\n",
        "\n",
        "**What Is a Hash Table**\n",
        "A hash table is a data structure that:\n",
        "\n",
        "Takes a key.\n",
        "\n",
        "Applies a hash function to convert the key into a number (called a hash).\n",
        "\n",
        "Uses this hash to determine the index where the value will be stored.\n",
        "\n",
        "This allows for fast data lookup, typically in constant time: O(1).\n",
        "\n",
        "**How Dictionaries Use Hash Tables**\n",
        "In Python, when you create a dictionary like this:\n",
        "\n",
        "Here's what happens behind the scenes:\n",
        "\n",
        "Python runs the hash() function on each key (\"name\", \"age\").\n",
        "\n",
        "The hash values are used to determine where to store the values (\"Alice\", 30) in memory.\n",
        "\n",
        "When you access a value, like my_dict[\"name\"], Python hashes the key again and quickly jumps to the correct location.\n",
        "\n",
        "**Benefits of Hash Tables in Dictionaries**\n",
        "\n",
        "Fast lookup: Getting a value by key is very fast.\n",
        "\n",
        "Efficient insertion and deletion: Adding or removing key-value pairs is quick.\n",
        "\n",
        "Flexible key types: Any immutable and hashable type (like strings, numbers, or tuples) can be used as a key.\n",
        "\n",
        "**Q9:-Can lists contain different data types in Python?**\n",
        "\n",
        "**Ans:-**Yes, lists in Python can contain different data types. Python lists are heterogeneous, meaning they can store a mix of integers, floats, strings, Booleans, other lists, objects, and more—all in the same list.\n",
        "\n",
        "**Q10:-Explain why strings are immutable in Python?**\n",
        "\n",
        "**Ans:-**In Python, strings are immutable, meaning once a string is created, its contents cannot be changed. You cannot modify, insert, or delete characters in a string directly.\n",
        "\n",
        "**Strings Immutable**\n",
        "Efficiency and Memory Optimization\n",
        "\n",
        "Immutable objects like strings can be interned or shared in memory.\n",
        "\n",
        "Python reuses existing string objects to save memory and improve performance.\n",
        "\n",
        "Safety and Predictability\n",
        "\n",
        "Since strings can't be changed, they’re safe to use as keys in dictionaries or elements in sets.\n",
        "\n",
        "This guarantees that the data won’t accidentally be modified while in use.\n",
        "\n",
        "Hashability\n",
        "\n",
        "Immutable objects can be hashed. Strings are hashable, so they can be used as keys in hash tables (like dictionaries).\n",
        "\n",
        "Design Simplicity\n",
        "\n",
        "Immutable strings make it easier to manage and reason about data flow.\n",
        "\n",
        "Changes to a string require creating a new string, which avoids side effects in functions and loops.\n",
        "\n",
        "**Q11:-What advantages do dictionaries offer over lists for certain tasks?**\n",
        "\n",
        "**Ans:-**In Python, dictionaries offer several key advantages over lists for certain tasks—especially when you need to store and retrieve data using unique identifiers (keys) instead of numeric positions (indexes).\n",
        "\n",
        "1. Fast Lookup by Key\n",
        "Dictionaries provide O(1) average time complexity for lookups using keys.\n",
        "\n",
        "Lists require O(n) time to search through values.\n",
        "\n",
        "2. More Meaningful Data Structure\n",
        "Dictionary keys give context to values.\n",
        "\n",
        "Lists use index numbers, which can be harder to understand.\n",
        "\n",
        "3. No Need to Remember Indexes\n",
        "In dictionaries, you refer to data by key, not by index.\n",
        "\n",
        "This makes your code more self-explanatory.\n",
        "\n",
        "4. Flexible Data Storage\n",
        "You can easily add, update, or delete key-value pairs without worrying about position.\n",
        "\n",
        "Dictionaries allow for non-sequential, structured data.\n",
        "\n",
        "5. Better for Lookups and Mappings\n",
        "Dictionaries are ideal for:\n",
        "\n",
        "Counting items (like word frequency)\n",
        "\n",
        "Storing configurations\n",
        "\n",
        "Creating maps between values (e.g., usernames to IDs)\n",
        "\n",
        "**Q12:-Describe a scenario where using a tuple would be preferable over a list?**\n",
        "\n",
        "**Ans:-**In Python, using a tuple is preferable over a list when you want to store a fixed collection of values that should not change throughout the program. This helps ensure data integrity, improve performance, and allow use in hash-based collections like sets or dictionary keys.\n",
        "\n",
        "Reasons Tuples Are Preferable:\n",
        "Immutability (Fixed Values)\n",
        "\n",
        "Coordinates should not change accidentally—tuples help enforce this.\n",
        "\n",
        "Hashability\n",
        "\n",
        "Tuples are hashable, so you can use them as keys in dictionaries or elements in sets:\n",
        "\n",
        "Semantic Meaning\n",
        "\n",
        "Using a tuple signals to other developers that the values are grouped and constant.\n",
        "\n",
        "Performance\n",
        "\n",
        "Tuples are slightly faster than lists for fixed collections because of their immutability and lighter memory footprint.\n",
        "\n",
        "**Q13:-How do sets handle duplicate values in Python?**\n",
        "\n",
        "**Ans:-**In Python, sets automatically remove duplicate values. A set is an unordered collection of unique elements, meaning it only keeps one copy of each item, even if duplicates are added.\n",
        "\n",
        "**Q14:-How does the “in” keyword work differently for lists and dictionaries?**\n",
        "\n",
        "**Ans:-**In Python, the in keyword is used to check membership, but it works differently for lists and dictionaries.\n",
        "\n",
        "🔹 For Lists\n",
        "in checks if a value exists in the list.\n",
        "\n",
        "Python searches through the list from start to end (linear search).\n",
        "\n",
        "Time complexity: O(n)\n",
        "\n",
        "🔸 For Dictionaries\n",
        "in checks if a key exists, not a value.\n",
        "\n",
        "To check if a value exists in a dictionary, use:\n",
        "\n",
        "Dictionary keys are stored in a hash table, so lookup is very fast.\n",
        "\n",
        "Time complexity: O(1) (on average)\n",
        "\n",
        "**Q15:-Can you modify the elements of a tuple? Explain why or why not?**\n",
        "\n",
        "**Ans:-**No, you cannot modify the elements of a tuple in Python because tuples are immutable. This means that once a tuple is created, its contents (elements) cannot be changed, added to, or removed.\n",
        "\n",
        "Why Tuples Are Immutable\n",
        "Data Integrity\n",
        "Tuples are often used to represent fixed collections of items (e.g., coordinates, dates, configurations) that shouldn't change.\n",
        "\n",
        "Hashability\n",
        "Because they are immutable, tuples can be used as keys in dictionaries or as elements in sets—unlike lists.\n",
        "\n",
        "Performance\n",
        "Tuples are more memory-efficient and faster to access than lists because their size and contents don’t change.\n",
        "\n",
        "Exception: Mutable Elements Inside Tuples\n",
        "If a tuple contains a mutable object (like a list), you can modify the object, but not the tuple structure itself:\n",
        "\n",
        "You didn’t change the tuple—it still has two elements.\n",
        "\n",
        "But you mutated the list inside the tuple.\n",
        "\n",
        "**Q16:-What is a nested dictionary, and give an example of its use case?**\n",
        "A nested dictionary in Python is a dictionary where values themselves are dictionaries. It allows you to organize data in a hierarchical or multi-level structure.\n"
      ],
      "metadata": {
        "id": "iGqfkhKursHb"
      }
    },
    {
      "cell_type": "code",
      "execution_count": 1,
      "metadata": {
        "id": "Sdf1iEWykjyC"
      },
      "outputs": [],
      "source": [
        "# Example of nested dictionary\n",
        "students = {\n",
        "    \"101\": {\"name\": \"Alice\", \"age\": 20, \"grade\": \"A\"},\n",
        "    \"102\": {\"name\": \"Bob\", \"age\": 22, \"grade\": \"B\"},\n",
        "    \"103\": {\"name\": \"Charlie\", \"age\": 21, \"grade\": \"A\"}\n",
        "}"
      ]
    },
    {
      "cell_type": "code",
      "source": [
        "#The outer dictionary uses student IDs as keys.\n",
        "\n",
        "#The inner dictionaries store information about each student.\n",
        "\n",
        "print(students[\"101\"][\"name\"])\n",
        "print(students[\"102\"][\"grade\"])"
      ],
      "metadata": {
        "colab": {
          "base_uri": "https://localhost:8080/"
        },
        "id": "XfCNnzgJn_tv",
        "outputId": "5e873c59-d3bc-42d1-8e4f-a998df6ad85b"
      },
      "execution_count": 2,
      "outputs": [
        {
          "output_type": "stream",
          "name": "stdout",
          "text": [
            "Alice\n",
            "B\n"
          ]
        }
      ]
    },
    {
      "cell_type": "markdown",
      "source": [
        "**Q17:-Describe the time complexity of accessing elements in a dictionary?**\n",
        "\n",
        "**Ans:-**the time complexity of accessing elements in a dictionary is generally:\n",
        "\n",
        "**Average Case: O(1) (Constant Time)**\n",
        "\n",
        "Python dictionaries use a hash table under the hood.\n",
        "\n",
        "When you access an element using a key like my_dict[key], Python:\n",
        "\n",
        "Hashes the key\n",
        "\n",
        "Finds the location in memory\n",
        "\n",
        "Retrieves the value directly\n",
        "\n",
        " This is very fast and efficient.\n",
        "\n",
        "**Worst Case: O(n) (Rare)**\n",
        "\n",
        "In unusual cases like hash collisions or a poorly distributed hash function, lookup may take longer.\n",
        "\n",
        "But Python’s hash table design minimizes these collisions, so this is rare in practice.\n",
        "\n",
        "**Q18:-In what situations are lists preferred over dictionaries?**\n",
        "\n",
        "**Ans:-**lists are preferred over dictionaries when:\n",
        "\n",
        "1. Order Matters\n",
        "Lists maintain the order of elements.\n",
        "\n",
        "Use lists when you need to preserve sequence or iterate in order.\n",
        "\n",
        "2. Index-Based Access\n",
        "Lists are ideal when you need to access elements by position (index).\n",
        "\n",
        "3. Data Doesn’t Need Labels\n",
        "Lists are simpler when you're storing just items, not key-value pairs.\n",
        "\n",
        "4. Duplicates Are Allowed\n",
        "Lists can contain duplicates, unlike sets or dictionary keys.\n",
        "\n",
        "5. Simplicity and Iteration\n",
        "Lists are straightforward for tasks like:\n",
        "\n",
        "Loops\n",
        "\n",
        "Filtering\n",
        "\n",
        "Sorting\n",
        "\n",
        "6. When Memory Usage is a Concern\n",
        "Lists typically use less memory than dictionaries when you're only storing values (not keys).\n",
        "\n",
        "**Q19:-Why are dictionaries considered unordered, and how does that affect data retrievaL?**\n",
        "\n",
        "**Ans:-**In Python, dictionaries were traditionally considered unordered because they didn’t preserve the insertion order of key-value pairs before Python 3.7. Starting from Python 3.7+, dictionaries do preserve insertion order, but they are still conceptually unordered in terms of how they store data internally using a hash table.\n",
        "\n",
        "**Why Dictionaries Are (Conceptually) Unordered**\n",
        "\n",
        "Dictionaries use a hash table to store key-value pairs.\n",
        "\n",
        "Keys are hashed to determine where their values are stored in memory.\n",
        "\n",
        "This makes fast access possible, but the physical order in memory doesn't follow a predictable sequence like a list.\n",
        "\n",
        "**Pre-Python 3.7**\n",
        "\n",
        "Dictionaries did not maintain insertion order.\n",
        "\n",
        "You couldn't rely on the order of items when looping over them.\n",
        "\n",
        "Python 3.7 and Above\n",
        "Insertion order is preserved, so the items appear in the order they were added.\n",
        "\n",
        "However, this behavior is considered a language feature, not a core design principle.\n",
        "\n",
        "**Effect on Data Retrieval**\n",
        "Key-based access is always fast (O(1)), regardless of order.\n",
        "\n",
        "The order of iteration (e.g., in for key in dict) is predictable only in Python 3.7+.\n",
        "\n",
        "If you need strict ordering, use a list or collections.OrderedDict (pre-3.7).\n",
        "\n",
        "**Q20:-Explain the difference between a list and a dictionary in terms of data retrieval.?**\n",
        "\n",
        "**Ans:-**lists and dictionaries differ significantly in how they handle data retrieval:\n",
        "\n",
        "1. List: Index-Based Retrieval\n",
        "A list stores elements in a sequence.\n",
        "\n",
        "You retrieve values using a numeric index (starting from 0).\n",
        "\n",
        "2. Dictionary: Key-Based Retrieval\n",
        "A dictionary stores data as key-value pairs.\n",
        "\n",
        "You retrieve values using a unique key, not an index.\n"
      ],
      "metadata": {
        "id": "ofZwvwNpoV6Y"
      }
    },
    {
      "cell_type": "code",
      "source": [
        "#Q1:-Write a code to create a string with your name and print it?\n",
        "# Create a string with your name\n",
        "my_name = \"John Doe\"\n",
        "\n",
        "# Print the string\n",
        "print(\"My name is:\", my_name)"
      ],
      "metadata": {
        "colab": {
          "base_uri": "https://localhost:8080/"
        },
        "id": "qkkamw7HoTpF",
        "outputId": "b3656be5-b5b2-44b7-bbd4-904271a6bd93"
      },
      "execution_count": 3,
      "outputs": [
        {
          "output_type": "stream",
          "name": "stdout",
          "text": [
            "My name is: John Doe\n"
          ]
        }
      ]
    },
    {
      "cell_type": "code",
      "source": [
        "#Q2:-Write a code to find the length of the string \"Hello World\"?\n",
        "# Define the string\n",
        "text = \"Hello World\"\n",
        "\n",
        "# Find and print the length\n",
        "length = len(text)\n",
        "print(\"Length of the string:\", length)"
      ],
      "metadata": {
        "colab": {
          "base_uri": "https://localhost:8080/"
        },
        "id": "Tk2EYLhcrDxU",
        "outputId": "e5caf4f2-c03b-4a4f-e0a7-b43132045696"
      },
      "execution_count": 4,
      "outputs": [
        {
          "output_type": "stream",
          "name": "stdout",
          "text": [
            "Length of the string: 11\n"
          ]
        }
      ]
    },
    {
      "cell_type": "code",
      "source": [
        "#Q3:-Write a code to slice the first 3 characters from the string \"Python Programming?\n",
        "# Define the string\n",
        "text = \"Python Programming\"\n",
        "\n",
        "# Slice the first 3 characters\n",
        "sliced = text[:3]\n",
        "\n",
        "# Print the result\n",
        "print(\"First 3 characters:\", sliced)"
      ],
      "metadata": {
        "colab": {
          "base_uri": "https://localhost:8080/"
        },
        "id": "sF-sObeDrX_E",
        "outputId": "e461c02b-5a5a-44ae-9446-e2fac51306e9"
      },
      "execution_count": 5,
      "outputs": [
        {
          "output_type": "stream",
          "name": "stdout",
          "text": [
            "First 3 characters: Pyt\n"
          ]
        }
      ]
    },
    {
      "cell_type": "code",
      "source": [
        "#Q4:-Write a code to convert the string \"hello\" to uppercas?\n",
        "# Define the string\n",
        "text = \"hello\"\n",
        "\n",
        "# Convert to uppercase\n",
        "uppercase_text = text.upper()\n",
        "\n",
        "# Print the result\n",
        "print(\"Uppercase:\", uppercase_text)"
      ],
      "metadata": {
        "colab": {
          "base_uri": "https://localhost:8080/"
        },
        "id": "8dpF5VXmrpr4",
        "outputId": "8a2e1271-996a-44d3-8d03-a4ccc1abd3f7"
      },
      "execution_count": 6,
      "outputs": [
        {
          "output_type": "stream",
          "name": "stdout",
          "text": [
            "Uppercase: HELLO\n"
          ]
        }
      ]
    },
    {
      "cell_type": "code",
      "source": [
        "#Q5:-Write a code to replace the word \"apple\" with \"orange\" in the string \"I like apple?\n",
        "# Original string\n",
        "text = \"I like apple\"\n",
        "\n",
        "# Replace \"apple\" with \"orange\"\n",
        "new_text = text.replace(\"apple\", \"orange\")\n",
        "\n",
        "# Print the result\n",
        "print(new_text)"
      ],
      "metadata": {
        "colab": {
          "base_uri": "https://localhost:8080/"
        },
        "id": "EaaIRXpFr9G6",
        "outputId": "6999cac1-c932-4f53-f088-aad55e12b004"
      },
      "execution_count": 7,
      "outputs": [
        {
          "output_type": "stream",
          "name": "stdout",
          "text": [
            "I like orange\n"
          ]
        }
      ]
    },
    {
      "cell_type": "code",
      "source": [
        "#Q6:-Write a code to create a list with numbers 1 to 5 and print it?\n",
        "# Create a list with numbers 1 to 5\n",
        "numbers = [1, 2, 3, 4, 5]\n",
        "\n",
        "# Print the list\n",
        "print(numbers)"
      ],
      "metadata": {
        "colab": {
          "base_uri": "https://localhost:8080/"
        },
        "id": "I9-ij_p1sODw",
        "outputId": "e11389e7-1ffc-491e-d6a9-2d86358fa4e8"
      },
      "execution_count": 8,
      "outputs": [
        {
          "output_type": "stream",
          "name": "stdout",
          "text": [
            "[1, 2, 3, 4, 5]\n"
          ]
        }
      ]
    },
    {
      "cell_type": "code",
      "source": [
        "#Q7:-Write a code to append the number 10 to the list [1, 2, 3, 4]?\n",
        "# Original list\n",
        "numbers = [1, 2, 3, 4]\n",
        "\n",
        "# Append 10 to the list\n",
        "numbers.append(10)\n",
        "\n",
        "# Print the updated list\n",
        "print(numbers)"
      ],
      "metadata": {
        "colab": {
          "base_uri": "https://localhost:8080/"
        },
        "id": "ud16KLnWsbLp",
        "outputId": "ddd965df-f019-4c05-82a2-3019713ca8da"
      },
      "execution_count": 9,
      "outputs": [
        {
          "output_type": "stream",
          "name": "stdout",
          "text": [
            "[1, 2, 3, 4, 10]\n"
          ]
        }
      ]
    },
    {
      "cell_type": "code",
      "source": [
        "#Q8:-Write a code to remove the number 3 from the list [1, 2, 3, 4, 5]?\n",
        "# Original list\n",
        "numbers = [1, 2, 3, 4, 5]\n",
        "\n",
        "# Remove the number 3\n",
        "numbers.remove(3)\n",
        "\n",
        "# Print the updated list\n",
        "print(numbers)"
      ],
      "metadata": {
        "colab": {
          "base_uri": "https://localhost:8080/"
        },
        "id": "RGjBBuUGsoE0",
        "outputId": "ab45319c-f4e2-44da-c94d-2ac0045452a4"
      },
      "execution_count": 10,
      "outputs": [
        {
          "output_type": "stream",
          "name": "stdout",
          "text": [
            "[1, 2, 4, 5]\n"
          ]
        }
      ]
    },
    {
      "cell_type": "code",
      "source": [
        "#Q9:-Write a code to access the second element in the list ['a', 'b', 'c', 'd']?\n",
        "# Define the list\n",
        "letters = ['a', 'b', 'c', 'd']\n",
        "\n",
        "# Access the second element (index 1)\n",
        "second_element = letters[1]\n",
        "\n",
        "# Print the second element\n",
        "print(\"Second element:\", second_element)"
      ],
      "metadata": {
        "colab": {
          "base_uri": "https://localhost:8080/"
        },
        "id": "xsbCVC5ks0Us",
        "outputId": "da44ac93-5b77-45f8-e297-0a70249c17b1"
      },
      "execution_count": 11,
      "outputs": [
        {
          "output_type": "stream",
          "name": "stdout",
          "text": [
            "Second element: b\n"
          ]
        }
      ]
    },
    {
      "cell_type": "code",
      "source": [
        "#Q10:-Write a code to reverse the list [10, 20, 30, 40, 50]?\n",
        "# Original list\n",
        "numbers = [10, 20, 30, 40, 50]\n",
        "\n",
        "# Reverse the list in place\n",
        "numbers.reverse()\n",
        "\n",
        "# Print the reversed list\n",
        "print(numbers)"
      ],
      "metadata": {
        "colab": {
          "base_uri": "https://localhost:8080/"
        },
        "id": "6vRbhc32tBIo",
        "outputId": "64def557-f07c-467b-d08e-48aa6c8a3d52"
      },
      "execution_count": 12,
      "outputs": [
        {
          "output_type": "stream",
          "name": "stdout",
          "text": [
            "[50, 40, 30, 20, 10]\n"
          ]
        }
      ]
    },
    {
      "cell_type": "code",
      "source": [
        "#Q11:-Write a code to create a tuple with the elements 100, 200, 300 and print it?\n",
        "\n",
        "# Create a tuple\n",
        "my_tuple = (100, 200, 300)\n",
        "\n",
        "# Print the tuple\n",
        "print(my_tuple)"
      ],
      "metadata": {
        "colab": {
          "base_uri": "https://localhost:8080/"
        },
        "id": "r7jy1LnhtTDq",
        "outputId": "a66c24fb-6707-4591-e3f5-45cfe3dc37e2"
      },
      "execution_count": 14,
      "outputs": [
        {
          "output_type": "stream",
          "name": "stdout",
          "text": [
            "(100, 200, 300)\n"
          ]
        }
      ]
    },
    {
      "cell_type": "code",
      "source": [
        "#Q12:-Write a code to access the second-to-last element of the tuple ('red', 'green', 'blue', 'yellow')?\n",
        "# Define the tuple\n",
        "colors = ('red', 'green', 'blue', 'yellow')\n",
        "\n",
        "# Access the second-to-last element using negative indexing\n",
        "second_to_last = colors[-2]\n",
        "\n",
        "# Print the element\n",
        "print(\"Second-to-last element:\", second_to_last)"
      ],
      "metadata": {
        "colab": {
          "base_uri": "https://localhost:8080/"
        },
        "id": "zDWy5ooatmoW",
        "outputId": "891ff79f-5358-4e32-a787-1cd3c426d617"
      },
      "execution_count": 15,
      "outputs": [
        {
          "output_type": "stream",
          "name": "stdout",
          "text": [
            "Second-to-last element: blue\n"
          ]
        }
      ]
    },
    {
      "cell_type": "code",
      "source": [
        "#Q13:-Write a code to find the minimum number in the tuple (10, 20, 5, 15)?\n",
        "# Define the tuple\n",
        "numbers = (10, 20, 5, 15)\n",
        "\n",
        "# Find the minimum number\n",
        "minimum = min(numbers)\n",
        "\n",
        "# Print the minimum number\n",
        "print(\"Minimum number:\", minimum)"
      ],
      "metadata": {
        "colab": {
          "base_uri": "https://localhost:8080/"
        },
        "id": "JQV7H6oQt6TS",
        "outputId": "5a818799-b583-4933-e657-14c50a382861"
      },
      "execution_count": 16,
      "outputs": [
        {
          "output_type": "stream",
          "name": "stdout",
          "text": [
            "Minimum number: 5\n"
          ]
        }
      ]
    },
    {
      "cell_type": "code",
      "source": [
        "#Q14:-Write a code to find the index of the element \"cat\" in the tuple ('dog', 'cat', 'rabbit')?\n",
        "# Define the tuple\n",
        "animals = ('dog', 'cat', 'rabbit')\n",
        "\n",
        "# Find the index of \"cat\"\n",
        "index_cat = animals.index('cat')\n",
        "\n",
        "# Print the index\n",
        "print(\"Index of 'cat':\", index_cat)"
      ],
      "metadata": {
        "colab": {
          "base_uri": "https://localhost:8080/"
        },
        "id": "1_8lLaG5uJEn",
        "outputId": "283f106f-c3cf-4557-a6af-98e84ac0f315"
      },
      "execution_count": 17,
      "outputs": [
        {
          "output_type": "stream",
          "name": "stdout",
          "text": [
            "Index of 'cat': 1\n"
          ]
        }
      ]
    },
    {
      "cell_type": "code",
      "source": [
        "#Q15:-Write a code to create a tuple containing three different fruits and check if \"kiwi\" is in it?\n",
        "# Create a tuple with three fruits\n",
        "fruits = (\"apple\", \"banana\", \"orange\")\n",
        "\n",
        "# Check if \"kiwi\" is in the tuple\n",
        "if \"kiwi\" in fruits:\n",
        "    print(\"Kiwi is in the tuple.\")\n",
        "else:\n",
        "    print(\"Kiwi is NOT in the tuple.\")"
      ],
      "metadata": {
        "colab": {
          "base_uri": "https://localhost:8080/"
        },
        "id": "JNFFe9FDuZDa",
        "outputId": "5dbe7d6d-8520-4149-827c-c58030bb14c1"
      },
      "execution_count": 18,
      "outputs": [
        {
          "output_type": "stream",
          "name": "stdout",
          "text": [
            "Kiwi is NOT in the tuple.\n"
          ]
        }
      ]
    },
    {
      "cell_type": "code",
      "source": [
        "#Q16:-Write a code to create a set with the elements 'a', 'b', 'c' and print it?\n",
        "# Create a set\n",
        "my_set = {'a', 'b', 'c'}\n",
        "\n",
        "# Print the set\n",
        "print(my_set)"
      ],
      "metadata": {
        "colab": {
          "base_uri": "https://localhost:8080/"
        },
        "id": "ueZURyKJus2u",
        "outputId": "f84e11b6-c18a-42c2-fae2-bf52de77f122"
      },
      "execution_count": 19,
      "outputs": [
        {
          "output_type": "stream",
          "name": "stdout",
          "text": [
            "{'c', 'b', 'a'}\n"
          ]
        }
      ]
    },
    {
      "cell_type": "code",
      "source": [
        "#Q17:- Write a code to clear all elements from the set {1, 2, 3, 4, 5}?\n",
        "# Define the set\n",
        "my_set = {1, 2, 3, 4, 5}\n",
        "\n",
        "# Clear all elements from the set\n",
        "my_set.clear()\n",
        "\n",
        "# Print the emptied set\n",
        "print(my_set)"
      ],
      "metadata": {
        "colab": {
          "base_uri": "https://localhost:8080/"
        },
        "id": "ty0Q1uxPu7IM",
        "outputId": "1a884ae1-7e60-41e4-f49d-b41f4caa639d"
      },
      "execution_count": 20,
      "outputs": [
        {
          "output_type": "stream",
          "name": "stdout",
          "text": [
            "set()\n"
          ]
        }
      ]
    },
    {
      "cell_type": "code",
      "source": [
        "#Q18:-Write a code to remove the element 4 from the set {1, 2, 3, 4}?\n",
        "# Define the set\n",
        "my_set = {1, 2, 3, 4}\n",
        "\n",
        "# Remove element 4\n",
        "my_set.remove(4)\n",
        "\n",
        "# Print the updated set\n",
        "print(my_set)"
      ],
      "metadata": {
        "colab": {
          "base_uri": "https://localhost:8080/"
        },
        "id": "-pPkv0PHvH6_",
        "outputId": "025a0294-f391-41e3-f2f1-9cad19a6b2c9"
      },
      "execution_count": 21,
      "outputs": [
        {
          "output_type": "stream",
          "name": "stdout",
          "text": [
            "{1, 2, 3}\n"
          ]
        }
      ]
    },
    {
      "cell_type": "code",
      "source": [
        "#Q19:-Write a code to find the union of two sets {1, 2, 3} and {3, 4, 5}?\n",
        "# Define the sets\n",
        "set1 = {1, 2, 3}\n",
        "set2 = {3, 4, 5}\n",
        "\n",
        "# Find the union\n",
        "union_set = set1.union(set2)\n",
        "\n",
        "# Print the union\n",
        "print(union_set)"
      ],
      "metadata": {
        "colab": {
          "base_uri": "https://localhost:8080/"
        },
        "id": "8V6nihHwvXF3",
        "outputId": "2a1cdd59-36ac-4c3d-c503-a612bfb85fd2"
      },
      "execution_count": 22,
      "outputs": [
        {
          "output_type": "stream",
          "name": "stdout",
          "text": [
            "{1, 2, 3, 4, 5}\n"
          ]
        }
      ]
    },
    {
      "cell_type": "code",
      "source": [
        "#Q20:-Write a code to find the intersection of two sets {1, 2, 3} and {2, 3, 4}?\n",
        "# Define the sets\n",
        "set1 = {1, 2, 3}\n",
        "set2 = {2, 3, 4}\n",
        "\n",
        "# Find the intersection\n",
        "intersection_set = set1.intersection(set2)\n",
        "\n",
        "# Print the intersection\n",
        "print(intersection_set)"
      ],
      "metadata": {
        "colab": {
          "base_uri": "https://localhost:8080/"
        },
        "id": "CRcX_uoovnTX",
        "outputId": "fd8c6033-a02d-416e-96ac-ad6beafb73d3"
      },
      "execution_count": 23,
      "outputs": [
        {
          "output_type": "stream",
          "name": "stdout",
          "text": [
            "{2, 3}\n"
          ]
        }
      ]
    },
    {
      "cell_type": "code",
      "source": [
        "#Q21:-Write a code to create a dictionary with the keys \"name\", \"age\", and \"city\", and print it?\n",
        "# Create the dictionary\n",
        "person = {\n",
        "    \"name\": \"Alice\",\n",
        "    \"age\": 30,\n",
        "    \"city\": \"New York\"\n",
        "}\n",
        "\n",
        "# Print the dictionary\n",
        "print(person)"
      ],
      "metadata": {
        "colab": {
          "base_uri": "https://localhost:8080/"
        },
        "id": "t1ptIAkbvzHJ",
        "outputId": "33847ef1-6a2e-43d9-f423-806a98cd2558"
      },
      "execution_count": 24,
      "outputs": [
        {
          "output_type": "stream",
          "name": "stdout",
          "text": [
            "{'name': 'Alice', 'age': 30, 'city': 'New York'}\n"
          ]
        }
      ]
    },
    {
      "cell_type": "code",
      "source": [
        "#Q22:-Write a code to add a new key-value pair \"country\": \"USA\" to the dictionary {'name': 'John', 'age': 25}?\n",
        "# Original dictionary\n",
        "person = {'name': 'John', 'age': 25}\n",
        "\n",
        "# Add new key-value pair\n",
        "person['country'] = 'USA'\n",
        "\n",
        "# Print the updated dictionary\n",
        "print(person)"
      ],
      "metadata": {
        "colab": {
          "base_uri": "https://localhost:8080/"
        },
        "id": "thFX2G7fwEKf",
        "outputId": "8599d8ec-80e2-4cb4-bc1d-df1107326954"
      },
      "execution_count": 25,
      "outputs": [
        {
          "output_type": "stream",
          "name": "stdout",
          "text": [
            "{'name': 'John', 'age': 25, 'country': 'USA'}\n"
          ]
        }
      ]
    },
    {
      "cell_type": "code",
      "source": [
        "#Q23:-Write a code to access the value associated with the key \"name\" in the dictionary {'name': 'Alice', 'age': 30}?\n",
        "# Define the dictionary\n",
        "person = {'name': 'Alice', 'age': 30}\n",
        "\n",
        "# Access the value for the key \"name\"\n",
        "name_value = person['name']\n",
        "\n",
        "# Print the value\n",
        "print(\"Name:\", name_value)"
      ],
      "metadata": {
        "colab": {
          "base_uri": "https://localhost:8080/"
        },
        "id": "eRM3udtNwXII",
        "outputId": "0e70e402-5879-42be-f3bd-fed4683cdc62"
      },
      "execution_count": 26,
      "outputs": [
        {
          "output_type": "stream",
          "name": "stdout",
          "text": [
            "Name: Alice\n"
          ]
        }
      ]
    },
    {
      "cell_type": "code",
      "source": [
        "#Q24:-Write a code to remove the key \"age\" from the dictionary {'name': 'Bob', 'age': 22, 'city': 'New York'}?\n",
        "# Define the dictionary\n",
        "person = {'name': 'Bob', 'age': 22, 'city': 'New York'}\n",
        "\n",
        "# Remove the key \"age\"\n",
        "person.pop('age')\n",
        "\n",
        "# Print the updated dictionary\n",
        "print(person)"
      ],
      "metadata": {
        "colab": {
          "base_uri": "https://localhost:8080/"
        },
        "id": "GDyD6YTKwptB",
        "outputId": "c92cf4c7-6a94-43db-d3e6-78aba2b90dc1"
      },
      "execution_count": 27,
      "outputs": [
        {
          "output_type": "stream",
          "name": "stdout",
          "text": [
            "{'name': 'Bob', 'city': 'New York'}\n"
          ]
        }
      ]
    },
    {
      "cell_type": "code",
      "source": [
        "#Q25:-Write a code to check if the key \"city\" exists in the dictionary {'name': 'Alice', 'city': 'Paris'}?\n",
        "# Define the dictionary\n",
        "person = {'name': 'Alice', 'city': 'Paris'}\n",
        "\n",
        "# Check if \"city\" key exists\n",
        "if \"city\" in person:\n",
        "    print(\"Key 'city' exists in the dictionary.\")\n",
        "else:\n",
        "    print(\"Key 'city' does NOT exist in the dictionary.\")"
      ],
      "metadata": {
        "colab": {
          "base_uri": "https://localhost:8080/"
        },
        "id": "LqJSfLGLw5BQ",
        "outputId": "e52fdcf5-aa5c-46f0-cae5-49b2aed98d69"
      },
      "execution_count": 28,
      "outputs": [
        {
          "output_type": "stream",
          "name": "stdout",
          "text": [
            "Key 'city' exists in the dictionary.\n"
          ]
        }
      ]
    },
    {
      "cell_type": "code",
      "source": [
        "#Q26:-Write a code to create a list, a tuple, and a dictionary, and print them all?\n",
        "# Create a list\n",
        "my_list = [1, 2, 3]\n",
        "\n",
        "# Create a tuple\n",
        "my_tuple = ('a', 'b', 'c')\n",
        "\n",
        "# Create a dictionary\n",
        "my_dict = {'name': 'Alice', 'age': 25}\n",
        "\n",
        "# Print all three\n",
        "print(\"List:\", my_list)\n",
        "print(\"Tuple:\", my_tuple)\n",
        "print(\"Dictionary:\", my_dict)"
      ],
      "metadata": {
        "colab": {
          "base_uri": "https://localhost:8080/"
        },
        "id": "7_-E1X8cyuhJ",
        "outputId": "3a4f9920-9cfa-4f30-f368-0de26da19b09"
      },
      "execution_count": 29,
      "outputs": [
        {
          "output_type": "stream",
          "name": "stdout",
          "text": [
            "List: [1, 2, 3]\n",
            "Tuple: ('a', 'b', 'c')\n",
            "Dictionary: {'name': 'Alice', 'age': 25}\n"
          ]
        }
      ]
    },
    {
      "cell_type": "code",
      "source": [
        "#Q27:-Write a code to create a list of 5 random numbers between 1 and 100, sort it in ascending order, and print the result.(replaced)?\n",
        "import random\n",
        "\n",
        "# Generate a list of 5 random numbers between 1 and 100\n",
        "random_numbers = [random.randint(1, 100) for _ in range(5)]\n",
        "\n",
        "# Sort the list in ascending order\n",
        "random_numbers.sort()\n",
        "\n",
        "# Print the sorted list\n",
        "print(random_numbers)"
      ],
      "metadata": {
        "colab": {
          "base_uri": "https://localhost:8080/"
        },
        "id": "Whfc4sKzzJvr",
        "outputId": "a5f91051-fe90-4ce6-e561-01bac9ed5c27"
      },
      "execution_count": 30,
      "outputs": [
        {
          "output_type": "stream",
          "name": "stdout",
          "text": [
            "[4, 22, 66, 80, 81]\n"
          ]
        }
      ]
    },
    {
      "cell_type": "code",
      "source": [
        "#Q28:- Write a code to create a list with strings and print the element at the third index?\n",
        "# Create a list with strings\n",
        "my_list = ['apple', 'banana', 'cherry', 'date', 'elderberry']\n",
        "\n",
        "# Access and print the element at index 3 (fourth element)\n",
        "print(my_list[3])"
      ],
      "metadata": {
        "colab": {
          "base_uri": "https://localhost:8080/"
        },
        "id": "w1NGmjRqzvLr",
        "outputId": "83225a5f-3e8f-4c5a-bde3-c553f7bb8527"
      },
      "execution_count": 31,
      "outputs": [
        {
          "output_type": "stream",
          "name": "stdout",
          "text": [
            "date\n"
          ]
        }
      ]
    },
    {
      "cell_type": "code",
      "source": [
        "#Q29:-Write a code to combine two dictionaries into one and print the result?\n",
        "# Define two dictionaries\n",
        "dict1 = {'a': 1, 'b': 2}\n",
        "dict2 = {'c': 3, 'd': 4}\n",
        "\n",
        "# Combine dictionaries (Python 3.9+)\n",
        "combined_dict = dict1 | dict2\n",
        "\n",
        "# Print the combined dictionary\n",
        "print(combined_dict)"
      ],
      "metadata": {
        "colab": {
          "base_uri": "https://localhost:8080/"
        },
        "id": "g0KvPVFR0EaY",
        "outputId": "33a05c69-b934-49b3-830b-64e073a7b6cd"
      },
      "execution_count": 32,
      "outputs": [
        {
          "output_type": "stream",
          "name": "stdout",
          "text": [
            "{'a': 1, 'b': 2, 'c': 3, 'd': 4}\n"
          ]
        }
      ]
    },
    {
      "cell_type": "code",
      "source": [
        "#Q30:-Write a code to convert a list of strings into a set?\n",
        "# Define a list of strings\n",
        "string_list = ['apple', 'banana', 'apple', 'cherry', 'banana']\n",
        "\n",
        "# Convert the list to a set\n",
        "string_set = set(string_list)\n",
        "\n",
        "# Print the set\n",
        "print(string_set)"
      ],
      "metadata": {
        "colab": {
          "base_uri": "https://localhost:8080/"
        },
        "id": "YSK4Ypuy0RoM",
        "outputId": "a78263b9-36c0-4043-dae6-3c1d837c3c97"
      },
      "execution_count": 33,
      "outputs": [
        {
          "output_type": "stream",
          "name": "stdout",
          "text": [
            "{'banana', 'apple', 'cherry'}\n"
          ]
        }
      ]
    },
    {
      "cell_type": "code",
      "source": [],
      "metadata": {
        "id": "aoxhawEJ0h--"
      },
      "execution_count": null,
      "outputs": []
    }
  ]
}